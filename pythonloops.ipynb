{
 "cells": [
  {
   "cell_type": "code",
   "execution_count": 2,
   "metadata": {},
   "outputs": [
    {
     "name": "stdout",
     "output_type": "stream",
     "text": [
      "31 32 33 34 35 36 37 38 39 40 41 42 43 44 45 46 47 48 49 50 51 52 53 54 55 56 57 58 59 60 61 62 63 64 65 66 67 68 69 70 71 72 73 74 75 76 77 78 79 80 81 82 83 84 85 86 87 88 89 90 91 92 93 94 95 96 97 98 99 100 101 102 103 104 105 106 107 108 109 110 111 112 113 114 115 116 117 118 119 120 121 122 123 124 125 "
     ]
    }
   ],
   "source": [
    "for x in range(32,127,1):\n",
    "    print(x-1, end=\" \")"
   ]
  },
  {
   "cell_type": "code",
   "execution_count": 26,
   "metadata": {},
   "outputs": [
    {
     "name": "stdout",
     "output_type": "stream",
     "text": [
      "Enter Number to calculate sum5\n",
      "SUM of first  5 numbers is:  15\n"
     ]
    }
   ],
   "source": [
    "n = int(input(\"Enter Number to calculate sum\"))\n",
    "sum = 0\n",
    "for num in range(0, n+1, 1):\n",
    "    sum = sum+num\n",
    "    \n",
    "print(\"SUM of first \", n, \"numbers is: \", sum )"
   ]
  },
  {
   "cell_type": "code",
   "execution_count": 46,
   "metadata": {},
   "outputs": [
    {
     "name": "stdout",
     "output_type": "stream",
     "text": [
      "Enter speed40\n",
      "Enter hours3\n",
      "40\n",
      "80\n",
      "120\n"
     ]
    }
   ],
   "source": [
    "s = int(input(\"Enter speed\"))\n",
    "h = int(input(\"Enter hours\"))\n",
    "speed=0\n",
    "hours=0\n",
    "distance=0\n",
    "for i in range(1,h+1,1):\n",
    "        distance=i*s\n",
    "        print(distance)"
   ]
  },
  {
   "cell_type": "code",
   "execution_count": 47,
   "metadata": {},
   "outputs": [
    {
     "name": "stdout",
     "output_type": "stream",
     "text": [
      "Enter temprature in celsius5\n",
      "32.0\n",
      "33.8\n",
      "35.6\n",
      "37.4\n",
      "39.2\n",
      "41.0\n"
     ]
    }
   ],
   "source": [
    "n=int(input(\"Enter temprature in celsius\"))\n",
    "farenhite=0\n",
    "for i in range(0,n+1,1):\n",
    "    farenhite=(i*9/5)+32\n",
    "    print(farenhite)"
   ]
  },
  {
   "cell_type": "code",
   "execution_count": 49,
   "metadata": {},
   "outputs": [
    {
     "name": "stdout",
     "output_type": "stream",
     "text": [
      "Enter speed in MPH60\n",
      "37.284\n",
      "40.391\n",
      "43.498\n",
      "46.605\n",
      "49.711999999999996\n",
      "52.818999999999996\n",
      "55.925999999999995\n",
      "59.032999999999994\n",
      "62.13999999999999\n",
      "65.247\n",
      "68.354\n",
      "71.461\n",
      "74.568\n",
      "77.675\n"
     ]
    }
   ],
   "source": [
    "n=int(input(\"Enter speed in MPH\"))\n",
    "KPH=0\n",
    "for i in range(60,130,5):\n",
    "    KPH=i*0.6214\n",
    "    print(KPH)"
   ]
  },
  {
   "cell_type": "code",
   "execution_count": 4,
   "metadata": {},
   "outputs": [
    {
     "name": "stdout",
     "output_type": "stream",
     "text": [
      "Enter a length10\n",
      "Enter a width2\n",
      "XXXXXXXXXXX"
     ]
    }
   ],
   "source": [
    "n=int(input(\"Enter a length\"))\n",
    "m=int(input(\"Enter a width\"))\n",
    "\n",
    "for x in range(0,n+1,1):\n",
    "    print(\"X\", end=\"\")\n",
    "    \n",
    "for y in range(n,m+1,1):\n",
    "        print(\"X\")"
   ]
  },
  {
   "cell_type": "code",
   "execution_count": null,
   "metadata": {},
   "outputs": [],
   "source": []
  }
 ],
 "metadata": {
  "kernelspec": {
   "display_name": "Python 3",
   "language": "python",
   "name": "python3"
  },
  "language_info": {
   "codemirror_mode": {
    "name": "ipython",
    "version": 3
   },
   "file_extension": ".py",
   "mimetype": "text/x-python",
   "name": "python",
   "nbconvert_exporter": "python",
   "pygments_lexer": "ipython3",
   "version": "3.7.6"
  }
 },
 "nbformat": 4,
 "nbformat_minor": 4
}
