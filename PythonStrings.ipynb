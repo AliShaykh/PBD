{
 "cells": [
  {
   "cell_type": "markdown",
   "id": "026f5414",
   "metadata": {},
   "source": [
    "# strings"
   ]
  },
  {
   "cell_type": "code",
   "execution_count": 6,
   "id": "760c5308",
   "metadata": {},
   "outputs": [
    {
     "data": {
      "text/plain": [
       "'Punjab'"
      ]
     },
     "execution_count": 6,
     "metadata": {},
     "output_type": "execute_result"
    }
   ],
   "source": [
    "ucp=\"University of Central Punjab\"\n",
    "ucp[-1]      #displays from last index\n",
    "#print(ucp[1])\n",
    "ucp[-6:]    #to display last six characters"
   ]
  },
  {
   "cell_type": "code",
   "execution_count": 7,
   "id": "51f593f7",
   "metadata": {},
   "outputs": [
    {
     "data": {
      "text/plain": [
       "'Pun'"
      ]
     },
     "execution_count": 7,
     "metadata": {},
     "output_type": "execute_result"
    }
   ],
   "source": [
    "ucp[-6:-3]"
   ]
  },
  {
   "cell_type": "code",
   "execution_count": 8,
   "id": "cfe85dfd",
   "metadata": {},
   "outputs": [
    {
     "data": {
      "text/plain": [
       "'University'"
      ]
     },
     "execution_count": 8,
     "metadata": {},
     "output_type": "execute_result"
    }
   ],
   "source": [
    "ucp[0:10]"
   ]
  },
  {
   "cell_type": "code",
   "execution_count": 10,
   "id": "52875119",
   "metadata": {},
   "outputs": [
    {
     "data": {
      "text/plain": [
       "'Uiest'"
      ]
     },
     "execution_count": 10,
     "metadata": {},
     "output_type": "execute_result"
    }
   ],
   "source": [
    "ucp[10:] #by default till end if not mentioned any last index\n",
    "ucp[0:10:2]  #to print characters by jump of 2 skipping one after each character.. defined increment in last"
   ]
  },
  {
   "cell_type": "code",
   "execution_count": 14,
   "id": "6a7cc174",
   "metadata": {},
   "outputs": [
    {
     "data": {
      "text/plain": [
       "'University of Central Punjab lahore lahore lahore'"
      ]
     },
     "execution_count": 14,
     "metadata": {},
     "output_type": "execute_result"
    }
   ],
   "source": [
    "city=\"lahore\"\n",
    "ucp=ucp + \" \" + city\n",
    "ucp"
   ]
  },
  {
   "cell_type": "code",
   "execution_count": 17,
   "id": "0b2f583e",
   "metadata": {},
   "outputs": [
    {
     "data": {
      "text/plain": [
       "'R'"
      ]
     },
     "execution_count": 17,
     "metadata": {},
     "output_type": "execute_result"
    }
   ],
   "source": [
    "ucp.lower() #to convert all into lower case\n"
   ]
  },
  {
   "cell_type": "code",
   "execution_count": 22,
   "id": "115ec173",
   "metadata": {},
   "outputs": [
    {
     "name": "stdout",
     "output_type": "stream",
     "text": [
      "present\n"
     ]
    }
   ],
   "source": [
    "for i in ucp:\n",
    "    if i=='C':\n",
    "        print(\"present\")"
   ]
  },
  {
   "cell_type": "code",
   "execution_count": 20,
   "id": "a9fb84ff",
   "metadata": {},
   "outputs": [
    {
     "data": {
      "text/plain": [
       "True"
      ]
     },
     "execution_count": 20,
     "metadata": {},
     "output_type": "execute_result"
    }
   ],
   "source": [
    "'oo' not in ucp"
   ]
  },
  {
   "cell_type": "code",
   "execution_count": 24,
   "id": "86b19cd5",
   "metadata": {},
   "outputs": [
    {
     "data": {
      "text/plain": [
       "['University', 'of', 'Central', 'Punjab', 'lahore', 'lahore', 'lahore']"
      ]
     },
     "execution_count": 24,
     "metadata": {},
     "output_type": "execute_result"
    }
   ],
   "source": [
    "ucp.split(\" \")"
   ]
  },
  {
   "cell_type": "code",
   "execution_count": 28,
   "id": "12be31d2",
   "metadata": {},
   "outputs": [
    {
     "data": {
      "text/plain": [
       "'On 15 August 1996, The Punjab Group of Colleges petitioned Government of Punjab for the establishment of a university in the province. \\\\Punjab Institute of Computer Science (PICS), Punjab College of Commerce (PCC), Punjab Law College (PLC) and Punjab College of Information Technology (PCIT) formed the core of the university at the time of establishment.Following a restructuring in 2004, the PCBA and PICS operate under the Faculty of Management Studies and Faculty of Information Technology of the University of Central Punjab respectively. The Punjab Colleges of Commerce and the Punjab Law College respectively function under the Faculties of Commerce and of Law of the University of Central Punjab. The Faculty of Engineering (FOE) was introduced in 2002.'"
      ]
     },
     "execution_count": 28,
     "metadata": {},
     "output_type": "execute_result"
    }
   ],
   "source": [
    "History=\"On 15 August 1996, The Punjab Group of Colleges petitioned Government of Punjab for the establishment of a university in the province. \\Punjab Institute of Computer Science (PICS), Punjab College of Commerce (PCC), Punjab Law College (PLC) and Punjab College of Information Technology (PCIT) formed the core of the university at the time of establishment.Following a restructuring in 2004, the PCBA and PICS operate under the Faculty of Management Studies and Faculty of Information Technology of the University of Central Punjab respectively. The Punjab Colleges of Commerce and the Punjab Law College respectively function under the Faculties of Commerce and of Law of the University of Central Punjab. The Faculty of Engineering (FOE) was introduced in 2002.\"\n",
    "History"
   ]
  },
  {
   "cell_type": "code",
   "execution_count": null,
   "id": "b1303003",
   "metadata": {},
   "outputs": [],
   "source": []
  }
 ],
 "metadata": {
  "kernelspec": {
   "display_name": "Python 3",
   "language": "python",
   "name": "python3"
  },
  "language_info": {
   "codemirror_mode": {
    "name": "ipython",
    "version": 3
   },
   "file_extension": ".py",
   "mimetype": "text/x-python",
   "name": "python",
   "nbconvert_exporter": "python",
   "pygments_lexer": "ipython3",
   "version": "3.8.8"
  }
 },
 "nbformat": 4,
 "nbformat_minor": 5
}
