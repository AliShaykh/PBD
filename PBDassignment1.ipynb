{
 "cells": [
  {
   "cell_type": "code",
   "execution_count": 1,
   "metadata": {},
   "outputs": [],
   "source": [
    "import pandas as pd"
   ]
  },
  {
   "cell_type": "code",
   "execution_count": 2,
   "metadata": {},
   "outputs": [],
   "source": [
    "df = pd.read_csv('jsrt_metadata.csv')"
   ]
  },
  {
   "cell_type": "code",
   "execution_count": 3,
   "metadata": {},
   "outputs": [
    {
     "data": {
      "text/html": [
       "<div>\n",
       "<style scoped>\n",
       "    .dataframe tbody tr th:only-of-type {\n",
       "        vertical-align: middle;\n",
       "    }\n",
       "\n",
       "    .dataframe tbody tr th {\n",
       "        vertical-align: top;\n",
       "    }\n",
       "\n",
       "    .dataframe thead th {\n",
       "        text-align: right;\n",
       "    }\n",
       "</style>\n",
       "<table border=\"1\" class=\"dataframe\">\n",
       "  <thead>\n",
       "    <tr style=\"text-align: right;\">\n",
       "      <th></th>\n",
       "      <th>study_id</th>\n",
       "      <th>subtlety</th>\n",
       "      <th>size</th>\n",
       "      <th>age</th>\n",
       "      <th>gender</th>\n",
       "      <th>x</th>\n",
       "      <th>y</th>\n",
       "      <th>state</th>\n",
       "      <th>position</th>\n",
       "      <th>diagnosis</th>\n",
       "    </tr>\n",
       "  </thead>\n",
       "  <tbody>\n",
       "    <tr>\n",
       "      <th>0</th>\n",
       "      <td>JPCLN001.png</td>\n",
       "      <td>5.0</td>\n",
       "      <td>15.0</td>\n",
       "      <td>53</td>\n",
       "      <td>Male</td>\n",
       "      <td>1634.0</td>\n",
       "      <td>692.0</td>\n",
       "      <td>malignant</td>\n",
       "      <td>l.upper lobe</td>\n",
       "      <td>lung cancer</td>\n",
       "    </tr>\n",
       "    <tr>\n",
       "      <th>1</th>\n",
       "      <td>JPCLN002.png</td>\n",
       "      <td>5.0</td>\n",
       "      <td>30.0</td>\n",
       "      <td>78</td>\n",
       "      <td>Female</td>\n",
       "      <td>1614.0</td>\n",
       "      <td>1090.0</td>\n",
       "      <td>benign</td>\n",
       "      <td>l.upper lobe(S5)</td>\n",
       "      <td>pulmonary hematoma</td>\n",
       "    </tr>\n",
       "    <tr>\n",
       "      <th>2</th>\n",
       "      <td>JPCLN003.png</td>\n",
       "      <td>5.0</td>\n",
       "      <td>30.0</td>\n",
       "      <td>63</td>\n",
       "      <td>Female</td>\n",
       "      <td>1303.0</td>\n",
       "      <td>447.0</td>\n",
       "      <td>malignant</td>\n",
       "      <td>l.upper lobe(S1+2)</td>\n",
       "      <td>lung cancer</td>\n",
       "    </tr>\n",
       "    <tr>\n",
       "      <th>3</th>\n",
       "      <td>JPCLN004.png</td>\n",
       "      <td>5.0</td>\n",
       "      <td>14.0</td>\n",
       "      <td>68</td>\n",
       "      <td>Female</td>\n",
       "      <td>606.0</td>\n",
       "      <td>836.0</td>\n",
       "      <td>benign</td>\n",
       "      <td>r.upper lobe</td>\n",
       "      <td>Inflammatory mass</td>\n",
       "    </tr>\n",
       "    <tr>\n",
       "      <th>4</th>\n",
       "      <td>JPCLN005.png</td>\n",
       "      <td>5.0</td>\n",
       "      <td>35.0</td>\n",
       "      <td>73</td>\n",
       "      <td>Female</td>\n",
       "      <td>1438.0</td>\n",
       "      <td>692.0</td>\n",
       "      <td>malignant</td>\n",
       "      <td>l.upper lobe(S3)</td>\n",
       "      <td>lung cancer</td>\n",
       "    </tr>\n",
       "  </tbody>\n",
       "</table>\n",
       "</div>"
      ],
      "text/plain": [
       "       study_id  subtlety  size age  gender       x       y      state  \\\n",
       "0  JPCLN001.png       5.0  15.0  53    Male  1634.0   692.0  malignant   \n",
       "1  JPCLN002.png       5.0  30.0  78  Female  1614.0  1090.0     benign   \n",
       "2  JPCLN003.png       5.0  30.0  63  Female  1303.0   447.0  malignant   \n",
       "3  JPCLN004.png       5.0  14.0  68  Female   606.0   836.0     benign   \n",
       "4  JPCLN005.png       5.0  35.0  73  Female  1438.0   692.0  malignant   \n",
       "\n",
       "             position           diagnosis  \n",
       "0        l.upper lobe         lung cancer  \n",
       "1    l.upper lobe(S5)  pulmonary hematoma  \n",
       "2  l.upper lobe(S1+2)         lung cancer  \n",
       "3        r.upper lobe   Inflammatory mass  \n",
       "4    l.upper lobe(S3)         lung cancer  "
      ]
     },
     "execution_count": 3,
     "metadata": {},
     "output_type": "execute_result"
    }
   ],
   "source": [
    "df.head()"
   ]
  },
  {
   "cell_type": "code",
   "execution_count": 4,
   "metadata": {},
   "outputs": [
    {
     "data": {
      "text/html": [
       "<div>\n",
       "<style scoped>\n",
       "    .dataframe tbody tr th:only-of-type {\n",
       "        vertical-align: middle;\n",
       "    }\n",
       "\n",
       "    .dataframe tbody tr th {\n",
       "        vertical-align: top;\n",
       "    }\n",
       "\n",
       "    .dataframe thead th {\n",
       "        text-align: right;\n",
       "    }\n",
       "</style>\n",
       "<table border=\"1\" class=\"dataframe\">\n",
       "  <thead>\n",
       "    <tr style=\"text-align: right;\">\n",
       "      <th></th>\n",
       "      <th>study_id</th>\n",
       "      <th>subtlety</th>\n",
       "      <th>size</th>\n",
       "      <th>age</th>\n",
       "      <th>gender</th>\n",
       "      <th>x</th>\n",
       "      <th>y</th>\n",
       "      <th>state</th>\n",
       "      <th>position</th>\n",
       "      <th>diagnosis</th>\n",
       "    </tr>\n",
       "  </thead>\n",
       "  <tbody>\n",
       "    <tr>\n",
       "      <th>0</th>\n",
       "      <td>JPCLN001.png</td>\n",
       "      <td>5.0</td>\n",
       "      <td>15.0</td>\n",
       "      <td>53</td>\n",
       "      <td>Male</td>\n",
       "      <td>1634.0</td>\n",
       "      <td>692.0</td>\n",
       "      <td>malignant</td>\n",
       "      <td>l.upper lobe</td>\n",
       "      <td>lung cancer</td>\n",
       "    </tr>\n",
       "    <tr>\n",
       "      <th>1</th>\n",
       "      <td>JPCLN002.png</td>\n",
       "      <td>5.0</td>\n",
       "      <td>30.0</td>\n",
       "      <td>78</td>\n",
       "      <td>Female</td>\n",
       "      <td>1614.0</td>\n",
       "      <td>1090.0</td>\n",
       "      <td>benign</td>\n",
       "      <td>l.upper lobe(S5)</td>\n",
       "      <td>pulmonary hematoma</td>\n",
       "    </tr>\n",
       "    <tr>\n",
       "      <th>2</th>\n",
       "      <td>JPCLN003.png</td>\n",
       "      <td>5.0</td>\n",
       "      <td>30.0</td>\n",
       "      <td>63</td>\n",
       "      <td>Female</td>\n",
       "      <td>1303.0</td>\n",
       "      <td>447.0</td>\n",
       "      <td>malignant</td>\n",
       "      <td>l.upper lobe(S1+2)</td>\n",
       "      <td>lung cancer</td>\n",
       "    </tr>\n",
       "    <tr>\n",
       "      <th>3</th>\n",
       "      <td>JPCLN004.png</td>\n",
       "      <td>5.0</td>\n",
       "      <td>14.0</td>\n",
       "      <td>68</td>\n",
       "      <td>Female</td>\n",
       "      <td>606.0</td>\n",
       "      <td>836.0</td>\n",
       "      <td>benign</td>\n",
       "      <td>r.upper lobe</td>\n",
       "      <td>Inflammatory mass</td>\n",
       "    </tr>\n",
       "    <tr>\n",
       "      <th>4</th>\n",
       "      <td>JPCLN005.png</td>\n",
       "      <td>5.0</td>\n",
       "      <td>35.0</td>\n",
       "      <td>73</td>\n",
       "      <td>Female</td>\n",
       "      <td>1438.0</td>\n",
       "      <td>692.0</td>\n",
       "      <td>malignant</td>\n",
       "      <td>l.upper lobe(S3)</td>\n",
       "      <td>lung cancer</td>\n",
       "    </tr>\n",
       "    <tr>\n",
       "      <th>...</th>\n",
       "      <td>...</td>\n",
       "      <td>...</td>\n",
       "      <td>...</td>\n",
       "      <td>...</td>\n",
       "      <td>...</td>\n",
       "      <td>...</td>\n",
       "      <td>...</td>\n",
       "      <td>...</td>\n",
       "      <td>...</td>\n",
       "      <td>...</td>\n",
       "    </tr>\n",
       "    <tr>\n",
       "      <th>242</th>\n",
       "      <td>JPCNN089.png</td>\n",
       "      <td>NaN</td>\n",
       "      <td>NaN</td>\n",
       "      <td>50</td>\n",
       "      <td>Male</td>\n",
       "      <td>NaN</td>\n",
       "      <td>NaN</td>\n",
       "      <td>non-nodule</td>\n",
       "      <td>NaN</td>\n",
       "      <td>NaN</td>\n",
       "    </tr>\n",
       "    <tr>\n",
       "      <th>243</th>\n",
       "      <td>JPCNN090.png</td>\n",
       "      <td>NaN</td>\n",
       "      <td>NaN</td>\n",
       "      <td>68</td>\n",
       "      <td>Female</td>\n",
       "      <td>NaN</td>\n",
       "      <td>NaN</td>\n",
       "      <td>non-nodule</td>\n",
       "      <td>NaN</td>\n",
       "      <td>NaN</td>\n",
       "    </tr>\n",
       "    <tr>\n",
       "      <th>244</th>\n",
       "      <td>JPCNN091.png</td>\n",
       "      <td>NaN</td>\n",
       "      <td>NaN</td>\n",
       "      <td>81</td>\n",
       "      <td>Male</td>\n",
       "      <td>NaN</td>\n",
       "      <td>NaN</td>\n",
       "      <td>non-nodule</td>\n",
       "      <td>NaN</td>\n",
       "      <td>NaN</td>\n",
       "    </tr>\n",
       "    <tr>\n",
       "      <th>245</th>\n",
       "      <td>JPCNN092.png</td>\n",
       "      <td>NaN</td>\n",
       "      <td>NaN</td>\n",
       "      <td>70</td>\n",
       "      <td>Female</td>\n",
       "      <td>NaN</td>\n",
       "      <td>NaN</td>\n",
       "      <td>non-nodule</td>\n",
       "      <td>NaN</td>\n",
       "      <td>NaN</td>\n",
       "    </tr>\n",
       "    <tr>\n",
       "      <th>246</th>\n",
       "      <td>JPCNN093.png</td>\n",
       "      <td>NaN</td>\n",
       "      <td>NaN</td>\n",
       "      <td>41</td>\n",
       "      <td>Male</td>\n",
       "      <td>NaN</td>\n",
       "      <td>NaN</td>\n",
       "      <td>non-nodule</td>\n",
       "      <td>NaN</td>\n",
       "      <td>NaN</td>\n",
       "    </tr>\n",
       "  </tbody>\n",
       "</table>\n",
       "<p>247 rows × 10 columns</p>\n",
       "</div>"
      ],
      "text/plain": [
       "         study_id  subtlety  size age  gender       x       y       state  \\\n",
       "0    JPCLN001.png       5.0  15.0  53    Male  1634.0   692.0   malignant   \n",
       "1    JPCLN002.png       5.0  30.0  78  Female  1614.0  1090.0      benign   \n",
       "2    JPCLN003.png       5.0  30.0  63  Female  1303.0   447.0   malignant   \n",
       "3    JPCLN004.png       5.0  14.0  68  Female   606.0   836.0      benign   \n",
       "4    JPCLN005.png       5.0  35.0  73  Female  1438.0   692.0   malignant   \n",
       "..            ...       ...   ...  ..     ...     ...     ...         ...   \n",
       "242  JPCNN089.png       NaN   NaN  50    Male     NaN     NaN  non-nodule   \n",
       "243  JPCNN090.png       NaN   NaN  68  Female     NaN     NaN  non-nodule   \n",
       "244  JPCNN091.png       NaN   NaN  81    Male     NaN     NaN  non-nodule   \n",
       "245  JPCNN092.png       NaN   NaN  70  Female     NaN     NaN  non-nodule   \n",
       "246  JPCNN093.png       NaN   NaN  41    Male     NaN     NaN  non-nodule   \n",
       "\n",
       "               position           diagnosis  \n",
       "0          l.upper lobe         lung cancer  \n",
       "1      l.upper lobe(S5)  pulmonary hematoma  \n",
       "2    l.upper lobe(S1+2)         lung cancer  \n",
       "3          r.upper lobe   Inflammatory mass  \n",
       "4      l.upper lobe(S3)         lung cancer  \n",
       "..                  ...                 ...  \n",
       "242                 NaN                 NaN  \n",
       "243                 NaN                 NaN  \n",
       "244                 NaN                 NaN  \n",
       "245                 NaN                 NaN  \n",
       "246                 NaN                 NaN  \n",
       "\n",
       "[247 rows x 10 columns]"
      ]
     },
     "execution_count": 4,
     "metadata": {},
     "output_type": "execute_result"
    }
   ],
   "source": [
    "import numpy as np\n",
    "df.replace(\"?\", np.nan, inplace=True)\n",
    "df"
   ]
  },
  {
   "cell_type": "code",
   "execution_count": 5,
   "metadata": {},
   "outputs": [
    {
     "data": {
      "text/plain": [
       "study_id      0\n",
       "subtlety     93\n",
       "size         93\n",
       "age           2\n",
       "gender        0\n",
       "x            93\n",
       "y            93\n",
       "state         0\n",
       "position     93\n",
       "diagnosis    93\n",
       "dtype: int64"
      ]
     },
     "execution_count": 5,
     "metadata": {},
     "output_type": "execute_result"
    }
   ],
   "source": [
    "df.isnull()\n",
    "df.isnull().sum()"
   ]
  },
  {
   "cell_type": "code",
   "execution_count": 6,
   "metadata": {},
   "outputs": [
    {
     "data": {
      "text/plain": [
       "study_id      0\n",
       "subtlety      0\n",
       "size         93\n",
       "age           2\n",
       "gender        0\n",
       "x            93\n",
       "y            93\n",
       "state         0\n",
       "position     93\n",
       "diagnosis    93\n",
       "dtype: int64"
      ]
     },
     "execution_count": 6,
     "metadata": {},
     "output_type": "execute_result"
    }
   ],
   "source": [
    "df['subtlety'].astype('float').mean()\n",
    "df['subtlety'] = df['subtlety'].astype('float')\n",
    "m = df['subtlety'].astype('float').mean()\n",
    "df['subtlety'].replace(np.nan, m, inplace=True)\n",
    "df.isnull().sum()"
   ]
  },
  {
   "cell_type": "code",
   "execution_count": 7,
   "metadata": {},
   "outputs": [],
   "source": [
    "df['size'].astype('float').mean()\n",
    "df['size'] = df['size'].astype('float')\n",
    "m = df['size'].astype('float').mean()\n",
    "df['size'].replace(np.nan, m, inplace=True)"
   ]
  },
  {
   "cell_type": "code",
   "execution_count": 8,
   "metadata": {},
   "outputs": [],
   "source": [
    "df['age'].astype('float').mean()\n",
    "df['age'] = df['age'].astype('float')\n",
    "m = df['age'].astype('float').mean()\n",
    "df['age'].replace(np.nan, m, inplace=True)"
   ]
  },
  {
   "cell_type": "code",
   "execution_count": 9,
   "metadata": {},
   "outputs": [],
   "source": [
    "df['x'].astype('float').mean()\n",
    "df['x'] = df['x'].astype('float')\n",
    "m = df['x'].astype('float').mean()\n",
    "df['x'].replace(np.nan, m, inplace=True)"
   ]
  },
  {
   "cell_type": "code",
   "execution_count": 10,
   "metadata": {},
   "outputs": [],
   "source": [
    "df['y'].astype('float').mean()\n",
    "df['y'] = df['y'].astype('float')\n",
    "m = df['y'].astype('float').mean()\n",
    "df['y'].replace(np.nan, m, inplace=True)"
   ]
  },
  {
   "cell_type": "code",
   "execution_count": 11,
   "metadata": {},
   "outputs": [],
   "source": [
    "mx = df['position'].value_counts().idxmax()\n",
    "df['position'].replace(np.nan, mx, inplace=True)"
   ]
  },
  {
   "cell_type": "code",
   "execution_count": 12,
   "metadata": {},
   "outputs": [
    {
     "data": {
      "text/plain": [
       "study_id     0\n",
       "subtlety     0\n",
       "size         0\n",
       "age          0\n",
       "gender       0\n",
       "x            0\n",
       "y            0\n",
       "state        0\n",
       "position     0\n",
       "diagnosis    0\n",
       "dtype: int64"
      ]
     },
     "execution_count": 12,
     "metadata": {},
     "output_type": "execute_result"
    }
   ],
   "source": [
    "mx = df['diagnosis'].value_counts().idxmax()\n",
    "df['diagnosis'].replace(np.nan, mx, inplace=True)\n",
    "df.isnull().sum()"
   ]
  },
  {
   "cell_type": "code",
   "execution_count": 13,
   "metadata": {},
   "outputs": [],
   "source": [
    "import matplotlib as plt\n",
    "from matplotlib import pyplot"
   ]
  },
  {
   "cell_type": "code",
   "execution_count": 58,
   "metadata": {},
   "outputs": [
    {
     "data": {
      "text/plain": [
       "(array([30.,  1.,  0.,  0.,  0.,  0.,  0.,  0.,  0.,  1.]),\n",
       " array([  1. ,  15.8,  30.6,  45.4,  60.2,  75. ,  89.8, 104.6, 119.4,\n",
       "        134.2, 149. ]),\n",
       " <a list of 10 Patch objects>)"
      ]
     },
     "execution_count": 58,
     "metadata": {},
     "output_type": "execute_result"
    },
    {
     "data": {
      "image/png": "[encoded data removed]",
      "text/plain": [
       "<Figure size 432x288 with 1 Axes>"
      ]
     },
     "metadata": {
      "needs_background": "light"
     },
     "output_type": "display_data"
    }
   ],
   "source": [
    "plt.pyplot.hist(df['diagnosis'].value_counts(),color='yellow', ec='blue')"
   ]
  },
  {
   "cell_type": "code",
   "execution_count": 18,
   "metadata": {},
   "outputs": [
    {
     "data": {
      "text/plain": [
       "(array([30.,  1.,  0.,  0.,  0.,  0.,  0.,  0.,  0.,  1.]),\n",
       " array([  1. ,  15.8,  30.6,  45.4,  60.2,  75. ,  89.8, 104.6, 119.4,\n",
       "        134.2, 149. ]),\n",
       " <a list of 10 Patch objects>)"
      ]
     },
     "execution_count": 18,
     "metadata": {},
     "output_type": "execute_result"
    },
    {
     "data": {
      "image/png": "[encoded data removed]",
      "text/plain": [
       "<Figure size 432x288 with 1 Axes>"
      ]
     },
     "metadata": {
      "needs_background": "light"
     },
     "output_type": "display_data"
    }
   ],
   "source": [
    "plt.pyplot.title(\"Assignment1\")\n",
    "plt.pyplot.xlabel(\"X-Axis\")\n",
    "plt.pyplot.ylabel(\"Y-Axis\")\n",
    "plt.pyplot.hist(df['diagnosis'].value_counts())"
   ]
  },
  {
   "cell_type": "code",
   "execution_count": 50,
   "metadata": {},
   "outputs": [
    {
     "data": {
      "text/plain": [
       "lung cancer                                       149\n",
       "lung cancer(adenocarcinoma)                        23\n",
       "tuberculoma                                        14\n",
       "granuloma                                           8\n",
       "lung cancer(bronchioloalveolar cell carcinoma)      7\n",
       "metastasis of colon cancer                          4\n",
       "unknown                                             4\n",
       "inflammatory mass                                   4\n",
       "pulmonary tuberculosis                              3\n",
       "Inflammatory mass                                   2\n",
       "susp. inflammatory mass                             2\n",
       "sclerosing hemangioma                               2\n",
       "lung abscess                                        2\n",
       "hamartoma                                           2\n",
       "lung cancer(squamous cell carcinoma)                2\n",
       "Cryptococcosis                                      2\n",
       "pulmonary hematoma                                  2\n",
       "metastasis of ovarian cancer                        1\n",
       "organiging pneumonia                                1\n",
       "pneumonia                                           1\n",
       "organizing pneumonia                                1\n",
       "calcified granuloma                                 1\n",
       "metastasis of uterine cancer                        1\n",
       "lung canceror metastasis                            1\n",
       "susp. lung metastasis                               1\n",
       "lung cancer(large cell carcinoma)                   1\n",
       "metastatic lung cancer                              1\n",
       "susp. sclerosing hemangioma                         1\n",
       "susp.tuberculoma                                    1\n",
       "lung cancer(adenosquamous carcinoma)                1\n",
       "susp. hamartoma                                     1\n",
       "lung cancer(small cell carcinoma)                   1\n",
       "Name: diagnosis, dtype: int64"
      ]
     },
     "execution_count": 50,
     "metadata": {},
     "output_type": "execute_result"
    }
   ],
   "source": [
    "cnt=df['diagnosis'].value_counts()\n",
    "cnt"
   ]
  },
  {
   "cell_type": "code",
   "execution_count": 31,
   "metadata": {},
   "outputs": [],
   "source": [
    "lbl = ['LOW','AVERAGE','HIGH']"
   ]
  },
  {
   "cell_type": "code",
   "execution_count": 49,
   "metadata": {},
   "outputs": [
    {
     "data": {
      "text/plain": [
       "([<matplotlib.patches.Wedge at 0x23e21b9f688>,\n",
       "  <matplotlib.patches.Wedge at 0x23e21ba81c8>,\n",
       "  <matplotlib.patches.Wedge at 0x23e21ba8dc8>,\n",
       "  <matplotlib.patches.Wedge at 0x23e21bafa88>,\n",
       "  <matplotlib.patches.Wedge at 0x23e21bb9948>,\n",
       "  <matplotlib.patches.Wedge at 0x23e21bc45c8>,\n",
       "  <matplotlib.patches.Wedge at 0x23e21bc4f88>,\n",
       "  <matplotlib.patches.Wedge at 0x23e21bcec48>,\n",
       "  <matplotlib.patches.Wedge at 0x23e21bb96c8>,\n",
       "  <matplotlib.patches.Wedge at 0x23e21bc4348>,\n",
       "  <matplotlib.patches.Wedge at 0x23e21b7ecc8>,\n",
       "  <matplotlib.patches.Wedge at 0x23e21bebdc8>,\n",
       "  <matplotlib.patches.Wedge at 0x23e21bf3a88>,\n",
       "  <matplotlib.patches.Wedge at 0x23e21bfd748>,\n",
       "  <matplotlib.patches.Wedge at 0x23e21c08408>,\n",
       "  <matplotlib.patches.Wedge at 0x23e21c110c8>,\n",
       "  <matplotlib.patches.Wedge at 0x23e21c11d48>,\n",
       "  <matplotlib.patches.Wedge at 0x23e21c1aa08>,\n",
       "  <matplotlib.patches.Wedge at 0x23e21c226c8>,\n",
       "  <matplotlib.patches.Wedge at 0x23e21c2c388>,\n",
       "  <matplotlib.patches.Wedge at 0x23e21c35048>,\n",
       "  <matplotlib.patches.Wedge at 0x23e21c35cc8>,\n",
       "  <matplotlib.patches.Wedge at 0x23e21c3f988>,\n",
       "  <matplotlib.patches.Wedge at 0x23e21c48648>,\n",
       "  <matplotlib.patches.Wedge at 0x23e21c52308>,\n",
       "  <matplotlib.patches.Wedge at 0x23e21c52f88>,\n",
       "  <matplotlib.patches.Wedge at 0x23e21c5bc48>,\n",
       "  <matplotlib.patches.Wedge at 0x23e21c64908>,\n",
       "  <matplotlib.patches.Wedge at 0x23e21c6e5c8>,\n",
       "  <matplotlib.patches.Wedge at 0x23e21c78288>,\n",
       "  <matplotlib.patches.Wedge at 0x23e21c78f08>,\n",
       "  <matplotlib.patches.Wedge at 0x23e21c80bc8>],\n",
       " [Text(-1.0426493150549963, -0.3505458683472785, ''),\n",
       "  Text(0.8890956668528454, -0.6476950634237492, ''),\n",
       "  Text(1.0861269135989273, -0.1741503016249713, ''),\n",
       "  Text(1.0919797500487745, 0.13259044265487666, ''),\n",
       "  Text(1.047023437479144, 0.33725646230925965, ''),\n",
       "  Text(0.9897612276498443, 0.4799715744094367, ''),\n",
       "  Text(0.93588808313956, 0.5780255148670865, ''),\n",
       "  Text(0.8723336088214358, 0.670100048440955, ''),\n",
       "  Text(0.8092962300372698, 0.7450098066787192, ''),\n",
       "  Text(0.7603132885502715, 0.7949362888017328, ''),\n",
       "  Text(0.718903785405025, 0.8325727279525352, ''),\n",
       "  Text(0.6756338968038895, 0.868054628171287, ''),\n",
       "  Text(0.6306155969401652, 0.9012901690886232, ''),\n",
       "  Text(0.5839653845609942, 0.9321933434832766, ''),\n",
       "  Text(0.5358039814908907, 0.960684179852312, ''),\n",
       "  Text(0.48625602022675507, 0.9866889493620762, ''),\n",
       "  Text(0.4354497214128203, 1.010140356644312, ''),\n",
       "  Text(0.39659819202417795, 1.0260165077049948, ''),\n",
       "  Text(0.37037289027324966, 1.035772138141705, ''),\n",
       "  Text(0.34390793621009047, 1.0448575651311123, ''),\n",
       "  Text(0.31722045416426553, 1.053266909885532, ''),\n",
       "  Text(0.29032771245359035, 1.060994731080916, ''),\n",
       "  Text(0.26324711221055186, 1.0680360283776973, ''),\n",
       "  Text(0.23599617612278517, 1.0743862456562927, ''),\n",
       "  Text(0.2085925370948991, 1.0800412739651728, ''),\n",
       "  Text(0.1810539268389844, 1.0849974541795866, ''),\n",
       "  Text(0.15339816440118825, 1.0892515793692228, ''),\n",
       "  Text(0.12564314463177842, 1.0928008968732768, ''),\n",
       "  Text(0.09780682660615812, 1.0956431100815782, ''),\n",
       "  Text(0.06990722200432242, 1.097776379920628, ''),\n",
       "  Text(0.04196238345628137, 1.0991993260435835, ''),\n",
       "  Text(0.013990392860976406, 1.0999110277234225, '')],\n",
       " [Text(-0.5687178082118161, -0.19120683728033372, '60.3%'),\n",
       "  Text(0.4849612728288247, -0.35328821641295405, '9.3%'),\n",
       "  Text(0.5924328619630511, -0.0949910736136207, '5.7%'),\n",
       "  Text(0.5956253182084223, 0.07232205962993271, '3.2%'),\n",
       "  Text(0.5711036931704422, 0.18395807035050527, '2.8%'),\n",
       "  Text(0.5398697605362787, 0.26180267695060183, '1.6%'),\n",
       "  Text(0.5104844089852144, 0.3152866444729563, '1.6%'),\n",
       "  Text(0.4758183320844195, 0.36550911733143, '1.6%'),\n",
       "  Text(0.4414343072930562, 0.4063689854611195, '1.2%'),\n",
       "  Text(0.41471633920923895, 0.4336016120736724, '0.8%'),\n",
       "  Text(0.3921293374936499, 0.45413057888320096, '0.8%'),\n",
       "  Text(0.36852758007484876, 0.4734843426388837, '0.8%'),\n",
       "  Text(0.34397214378554464, 0.4916128195028854, '0.8%'),\n",
       "  Text(0.3185265733969059, 0.5084690964454236, '0.8%'),\n",
       "  Text(0.2922567171768494, 0.5240095526467156, '0.8%'),\n",
       "  Text(0.2652305564873209, 0.5381939723793142, '0.8%'),\n",
       "  Text(0.2375180298615383, 0.5509856490787155, '0.8%'),\n",
       "  Text(0.2163262865586425, 0.559645367839088, '0.4%'),\n",
       "  Text(0.2020215765126816, 0.5649666208045664, '0.4%'),\n",
       "  Text(0.18758614702368567, 0.5699223082533339, '0.4%'),\n",
       "  Text(0.1730293386350539, 0.5745092235739265, '0.4%'),\n",
       "  Text(0.1583605704292311, 0.5787243987714087, '0.4%'),\n",
       "  Text(0.14358933393302825, 0.5825651063878348, '0.4%'),\n",
       "  Text(0.1287251869760646, 0.5860288612670687, '0.4%'),\n",
       "  Text(0.11377774750630859, 0.5891134221628215, '0.4%'),\n",
       "  Text(0.09875668736671876, 0.5918167931888653, '0.4%'),\n",
       "  Text(0.08367172603701176, 0.5941372251104851, '0.4%'),\n",
       "  Text(0.0685326243446064, 0.5960732164763327, '0.4%'),\n",
       "  Text(0.053349178148813514, 0.5976235145899517, '0.4%'),\n",
       "  Text(0.03813121200235768, 0.5987871163203424, '0.4%'),\n",
       "  Text(0.02288857279433529, 0.5995632687510455, '0.4%'),\n",
       "  Text(0.007631123378714402, 0.5999514696673214, '0.4%')])"
      ]
     },
     "execution_count": 49,
     "metadata": {},
     "output_type": "execute_result"
    },
    {
     "data": {
      "image/png": "[encoded data removed]",
      "text/plain": [
       "<Figure size 432x288 with 1 Axes>"
      ]
     },
     "metadata": {},
     "output_type": "display_data"
    }
   ],
   "source": [
    "plt.pyplot.pie(df['diagnosis'].value_counts(),\n",
    "               shadow=True,autopct='%1.1f%%',\n",
    "              startangle=90)"
   ]
  },
  {
   "cell_type": "code",
   "execution_count": 56,
   "metadata": {},
   "outputs": [],
   "source": [
    "cout=df['gender'].value_counts()"
   ]
  },
  {
   "cell_type": "code",
   "execution_count": 57,
   "metadata": {},
   "outputs": [
    {
     "data": {
      "text/plain": [
       "([<matplotlib.patches.Wedge at 0x23e22df5ec8>,\n",
       "  <matplotlib.patches.Wedge at 0x23e22dfea48>],\n",
       " [Text(-1.098198743276378, -0.06292471903937331, ''),\n",
       "  Text(1.098198743276378, 0.06292471903937269, '')],\n",
       " [Text(-0.5990174963325697, -0.03432257402147635, '51.8%'),\n",
       "  Text(0.5990174963325697, 0.034322574021476, '48.2%')])"
      ]
     },
     "execution_count": 57,
     "metadata": {},
     "output_type": "execute_result"
    },
    {
     "data": {
      "image/png": "[encoded data removed]",
      "text/plain": [
       "<Figure size 432x288 with 1 Axes>"
      ]
     },
     "metadata": {},
     "output_type": "display_data"
    }
   ],
   "source": [
    "plt.pyplot.pie(df['gender'].value_counts(),\n",
    "               shadow=True,autopct='%1.1f%%',\n",
    "              startangle=90)"
   ]
  },
  {
   "cell_type": "code",
   "execution_count": null,
   "metadata": {},
   "outputs": [],
   "source": []
  },
  {
   "cell_type": "code",
   "execution_count": null,
   "metadata": {},
   "outputs": [],
   "source": []
  },
  {
   "cell_type": "code",
   "execution_count": null,
   "metadata": {},
   "outputs": [],
   "source": []
  },
  {
   "cell_type": "code",
   "execution_count": null,
   "metadata": {},
   "outputs": [],
   "source": []
  }
 ],
 "metadata": {
  "kernelspec": {
   "display_name": "Python 3",
   "language": "python",
   "name": "python3"
  },
  "language_info": {
   "codemirror_mode": {
    "name": "ipython",
    "version": 3
   },
   "file_extension": ".py",
   "mimetype": "text/x-python",
   "name": "python",
   "nbconvert_exporter": "python",
   "pygments_lexer": "ipython3",
   "version": "3.7.6"
  }
 },
 "nbformat": 4,
 "nbformat_minor": 4
}
